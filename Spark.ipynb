{
 "cells": [
  {
   "cell_type": "code",
   "execution_count": 1,
   "metadata": {},
   "outputs": [],
   "source": [
    "import math\n",
    "from pyspark import SparkContext"
   ]
  },
  {
   "cell_type": "code",
   "execution_count": 2,
   "metadata": {},
   "outputs": [
    {
     "output_type": "execute_result",
     "data": {
      "text/plain": [
       "<SparkContext master=local[*] appName=flaflu>"
      ],
      "text/html": "\n        <div>\n            <p><b>SparkContext</b></p>\n\n            <p><a href=\"http://LAPTOP-LQURV1U1:4040\">Spark UI</a></p>\n\n            <dl>\n              <dt>Version</dt>\n                <dd><code>v3.0.1</code></dd>\n              <dt>Master</dt>\n                <dd><code>local[*]</code></dd>\n              <dt>AppName</dt>\n                <dd><code>flaflu</code></dd>\n            </dl>\n        </div>\n        "
     },
     "metadata": {},
     "execution_count": 2
    }
   ],
   "source": [
    "sc = SparkContext(appName=\"flaflu\")\n",
    "sc"
   ]
  },
  {
   "cell_type": "code",
   "execution_count": 3,
   "metadata": {},
   "outputs": [],
   "source": [
    "rdd = sc.sequenceFile(\"part-00000\")\n",
    "N_documentos = rdd.count()"
   ]
  },
  {
   "cell_type": "code",
   "execution_count": 4,
   "metadata": {},
   "outputs": [],
   "source": [
    "DOC_COUNT_MIN = 10\n",
    "DOC_COUNT_MAX = N_documentos * 0.5"
   ]
  },
  {
   "cell_type": "code",
   "execution_count": 5,
   "metadata": {},
   "outputs": [],
   "source": [
    "def conta_documento(item):\n",
    "    conteudo = item[1]\n",
    "    palavras = conteudo.strip().split()\n",
    "    palavras_ = [i for i in palavras if i.isalpha()]\n",
    "    palavras_filtradas = [i for i in palavras_ if len(i) > 3]\n",
    "    return [(i.lower(), 1) for i in set(palavras_filtradas)]\n",
    "\n",
    "\n",
    "def calcula_idf(item):\n",
    "    palavra, contagem = item\n",
    "    idf = math.log10(N_docs / contagem)\n",
    "    return (palavra, idf)\n",
    "\n",
    "\n",
    "def filtra_doc(item):\n",
    "    contagem = item[1]\n",
    "    return (contagem < DOC_COUNT_MAX) and (contagem > DOC_COUNT_MIN)\n",
    "\n",
    "rdd_idf = rdd \\\n",
    "    .flatMap(conta_documento) \\\n",
    "    .reduceByKey(lambda x,y: x+y) \\\n",
    "    .filter(filtra_doc) \\\n",
    "    .map(lambda x: (x[0], math.log10(N_documentos/x[1])))"
   ]
  },
  {
   "cell_type": "code",
   "execution_count": 6,
   "metadata": {},
   "outputs": [
    {
     "output_type": "execute_result",
     "data": {
      "text/plain": [
       "[('russians', 3.516511335899341),\n",
       " ('jora', 3.516511335899341),\n",
       " ('betway', 3.516511335899341),\n",
       " ('unemployed', 3.516511335899341),\n",
       " ('millionaire', 3.516511335899341),\n",
       " ('desempenhadas', 3.516511335899341),\n",
       " ('optativas', 3.516511335899341),\n",
       " ('mock', 3.516511335899341),\n",
       " ('suspended', 3.516511335899341),\n",
       " ('doghero', 3.516511335899341),\n",
       " ('esperidião', 3.516511335899341),\n",
       " ('exercidos', 3.516511335899341),\n",
       " ('coorte', 3.516511335899341),\n",
       " ('sebastián', 3.516511335899341),\n",
       " ('frisando', 3.516511335899341),\n",
       " ('ende', 3.516511335899341),\n",
       " ('absolve', 3.516511335899341),\n",
       " ('homeopáticas', 3.516511335899341),\n",
       " ('conduite', 3.516511335899341),\n",
       " ('researchgate', 3.516511335899341)]"
      ]
     },
     "metadata": {},
     "execution_count": 6
    }
   ],
   "source": [
    "rdd_idf.takeOrdered(20, key=lambda x: -x[1])"
   ]
  },
  {
   "cell_type": "code",
   "execution_count": 7,
   "metadata": {},
   "outputs": [],
   "source": [
    "def conta_palavra(item):\n",
    "    conteudo = item[1]\n",
    "    palavras = conteudo.strip().split()\n",
    "    palavras_ = [i for i in palavras if i.isalpha()]\n",
    "    palavras_filtradas = [i for i in palavras_ if len(i) > 3]\n",
    "    return [(i.lower(), 1) for i in palavras_filtradas]\n",
    "\n",
    "\n",
    "def calcula_freq(item):\n",
    "    palavra, contagem = item\n",
    "    freq = math.log10(1 + contagem)\n",
    "    return (palavra, freq)\n",
    "\n",
    "def gera_rdd_freq(rdd, palavra):\n",
    "    rdd_freq = (\n",
    "        rdd.filter(lambda x: palavra in x[1])\n",
    "        .flatMap(conta_palavra)\n",
    "        .reduceByKey(lambda x, y: x + y)\n",
    "        .map(calcula_freq)\n",
    "    )\n",
    "\n",
    "    return rdd_freq\n",
    "\n",
    "rdd_freq_fla = gera_rdd_freq(rdd, \"flamengo\")\n",
    "rdd_freq_flu = gera_rdd_freq(rdd, \"fluminense\")\n",
    "\n",
    "rdd_freq = rdd_freq_fla.intersection(rdd_freq_flu)"
   ]
  },
  {
   "cell_type": "code",
   "execution_count": 8,
   "metadata": {},
   "outputs": [
    {
     "output_type": "stream",
     "name": "stdout",
     "text": [
      "[('bairro', 3.472171146692363), ('jardim', 3.370883016777606), ('vila', 3.3220124385824006), ('belo', 3.1832698436828046), ('horizonte', 3.1749315935284423), ('santa', 3.0310042813635367), ('paulo', 3.0038911662369103), ('contagem', 2.997386384397313), ('nova', 2.9916690073799486), ('betim', 2.9508514588885464), ('para', 2.9304395947667), ('santo', 2.705007959333336), ('parque', 2.6893088591236203), ('josé', 2.611723308007342), ('lima', 2.5658478186735176), ('mais', 2.5550944485783194), ('sorocaba', 2.5538830266438746), ('centro', 2.534026106056135), ('andré', 2.514547752660286), ('luzia', 2.4899584794248346)]\n",
      "\n",
      "\n",
      "[('para', 3.3914644118391033), ('mais', 2.8692317197309762), ('como', 2.7867514221455614), ('brasil', 2.754348335711019), ('sobre', 2.6180480967120925), ('conteúdo', 2.5428254269591797), ('tags', 2.510545010206612), ('educação', 2.503790683057181), ('estadão', 2.481442628502305), ('festa', 2.481442628502305), ('detalhes', 2.4727564493172123), ('saúde', 2.4712917110589387), ('pelo', 2.4653828514484184), ('entre', 2.4608978427565478), ('pela', 2.459392487759231), ('barrocas', 2.4578818967339924), ('estado', 2.4471580313422194), ('universidade', 2.439332693830263), ('janeiro', 2.4345689040341987), ('comar', 2.4265112613645754)]\n",
      "\n",
      "\n",
      "[('tipo', 1.662757831681574), ('marcos', 1.6232492903979006), ('pituaçu', 1.6127838567197355), ('pois', 1.568201724066995), ('brasileirao', 1.3979400086720377), ('henrique', 1.380211241711606), ('cargo', 1.255272505103306), ('colunas', 1.255272505103306), ('melhores', 1.2304489213782739), ('rodrigues', 1.2041199826559248), ('ricardo', 1.2041199826559248), ('pituacu', 1.2041199826559248), ('martins', 1.146128035678238), ('suzano', 1.1139433523068367), ('tendência', 1.1139433523068367), ('elétricas', 1.1139433523068367), ('interiores', 1.1139433523068367), ('interesse', 1.0791812460476249), ('cesar', 1.0791812460476249), ('vontade', 1.0413926851582251)]\n"
     ]
    }
   ],
   "source": [
    "print(rdd_freq_fla.takeOrdered(20, key=lambda x: -x[1]))\n",
    "print('\\n')\n",
    "print(rdd_freq_flu.takeOrdered(20, key=lambda x: -x[1]))\n",
    "print('\\n')\n",
    "print(rdd_freq.takeOrdered(20, key=lambda x: -x[1]))"
   ]
  },
  {
   "cell_type": "code",
   "execution_count": 9,
   "metadata": {},
   "outputs": [],
   "source": [
    "rdd_relevancia = rdd_freq.join(rdd_idf) \\\n",
    "    .map(lambda x: (x[0], x[1][0] * x[1][1]))"
   ]
  },
  {
   "cell_type": "code",
   "execution_count": 10,
   "metadata": {},
   "outputs": [
    {
     "output_type": "stream",
     "name": "stdout",
     "text": [
      "[('pituaçu', 5.502457231963849), ('ceni', 2.771780113056083), ('misael', 2.5915289103571633), ('joesley', 2.384729075294114), ('interiores', 2.3547194315566156), ('marcos', 2.273275009547502), ('sampaoli', 2.2475250063266974), ('marta', 2.236881180824885), ('loures', 2.2340312819160704), ('vino', 2.153374743545537), ('cpmf', 2.1434211037558506), ('vanderlan', 2.1434211037558506), ('urubu', 2.1244424982210126), ('araci', 2.1065809457071443), ('selecao', 2.094399803754871), ('neymar', 2.093886743804431), ('suzano', 2.0317265542586056), ('henrique', 2.031533362048021), ('cargo', 2.0308876440476933), ('wilder', 2.0302922354398523), ('iris', 2.025307892330542), ('ignorou', 1.9883823018548772), ('décimo', 1.9870735299349565), ('cesar', 1.9606051427560756), ('elétricas', 1.939375578749554), ('renuncia', 1.9379461908430653), ('aperibé', 1.9281531217082202), ('prejudicar', 1.879033465167268), ('delação', 1.8672377630080959), ('tendência', 1.8587284603939462), ('sánchez', 1.8548160455847345), ('collor', 1.84082469243938), ('jacaré', 1.8294943983014187), ('preferidos', 1.8267031315776479), ('orientado', 1.8198812980653276), ('zico', 1.7930071569124293), ('serginho', 1.7930071569124293), ('sãopaulo', 1.7668382016915223), ('maduro', 1.742843983680297), ('pintor', 1.7325528687964875), ('welle', 1.7319235705970444), ('dunga', 1.7212497893145915), ('huck', 1.7212497893145915), ('martins', 1.7061330809275583), ('provisório', 1.7060141402927376), ('direita', 1.6946208485257452), ('rodrigues', 1.6925299242182066), ('charlie', 1.681453199955977), ('belezas', 1.6793229539092327), ('amma', 1.67780230082021), ('albernaz', 1.67780230082021), ('chivas', 1.67780230082021), ('streep', 1.67780230082021), ('aparecidense', 1.67780230082021), ('jong', 1.67780230082021), ('pence', 1.67780230082021), ('ricardo', 1.672657518242261), ('eleitos', 1.6709483864953034), ('marcou', 1.6649345394697423), ('kashima', 1.6597725752346093), ('neilton', 1.6597725752346093), ('adib', 1.6597725752346093), ('nicodemos', 1.6597725752346093), ('cardiff', 1.6597725752346093), ('amaral', 1.6556429910956834), ('negrão', 1.6486570493384194), ('friboi', 1.6431868354795158), ('terrivelmente', 1.6431868354795158), ('avai', 1.6431868354795158), ('theron', 1.6431868354795158), ('ufpi', 1.6431868354795158), ('youssef', 1.6431868354795158), ('fundiários', 1.6431868354795158), ('esquerdistas', 1.6431868354795158), ('karlos', 1.6431868354795158), ('detecção', 1.6414534740664033), ('infelizmente', 1.6367248165089097), ('vontade', 1.6366321702478612), ('serie', 1.632226051885998), ('indigenas', 1.6278308389665979), ('calcio', 1.6278308389665979), ('guardiola', 1.6278308389665979), ('grazziotin', 1.6278308389665979), ('baldy', 1.6278308389665979), ('decapitado', 1.6278308389665979), ('rooney', 1.6278308389665979), ('nice', 1.6268213011147243), ('premiada', 1.6197614755746124), ('reforços', 1.6187420224204194), ('funk', 1.6180218787456502), ('reapresentação', 1.6135347482333067), ('vitinho', 1.6135347482333067), ('richie', 1.6135347482333067), ('figaro', 1.6135347482333067), ('assedio', 1.6135347482333067), ('neres', 1.6135347482333067), ('kajuru', 1.6135347482333067), ('montoya', 1.6135347482333067), ('deutsche', 1.611769040333516), ('pois', 1.6008844253104086)]\n"
     ]
    }
   ],
   "source": [
    "top_relevancia = rdd_relevancia.takeOrdered(100, key=lambda x: -x[1])\n",
    "print(top_relevancia)"
   ]
  },
  {
   "cell_type": "code",
   "execution_count": 10,
   "metadata": {},
   "outputs": [],
   "source": [
    "rdd_freq_flaOnly = rdd_freq_fla.subtractByKey(rdd_freq)\n",
    "rdd_freq_fluOnly = rdd_freq_flu.subtractByKey(rdd_freq)\n",
    "\n",
    "rdd_relevanciaFLA = rdd_freq_flaOnly.join(rdd_idf) \\\n",
    "    .map(lambda x: (x[0], x[1][0] * x[1][1]))\n",
    "top_relevanciaFLA = rdd_relevanciaFLA.takeOrdered(100, key=lambda x: -x[1])\n",
    "\n",
    "\n",
    "rdd_relevanciaFLU = rdd_freq_fluOnly.join(rdd_idf) \\\n",
    "    .map(lambda x: (x[0], x[1][0] * x[1][1]))\n",
    "top_relevanciaFLU = rdd_relevanciaFLU.takeOrdered(100, key=lambda x: -x[1])\n"
   ]
  },
  {
   "cell_type": "code",
   "execution_count": null,
   "metadata": {},
   "outputs": [],
   "source": []
  }
 ],
 "metadata": {
  "kernelspec": {
   "display_name": "Python 3",
   "language": "python",
   "name": "python3"
  },
  "language_info": {
   "codemirror_mode": {
    "name": "ipython",
    "version": 3
   },
   "file_extension": ".py",
   "mimetype": "text/x-python",
   "name": "python",
   "nbconvert_exporter": "python",
   "pygments_lexer": "ipython3",
   "version": "3.8.4-final"
  }
 },
 "nbformat": 4,
 "nbformat_minor": 4
}