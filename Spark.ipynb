{
 "cells": [
  {
   "cell_type": "code",
   "execution_count": 1,
   "metadata": {},
   "outputs": [],
   "source": [
    "import math\n",
    "from pyspark import SparkContext"
   ]
  },
  {
   "cell_type": "code",
   "execution_count": 2,
   "metadata": {},
   "outputs": [
    {
     "output_type": "execute_result",
     "data": {
      "text/plain": [
       "<SparkContext master=local[*] appName=flaflu>"
      ],
      "text/html": "\n        <div>\n            <p><b>SparkContext</b></p>\n\n            <p><a href=\"http://LAPTOP-LQURV1U1:4040\">Spark UI</a></p>\n\n            <dl>\n              <dt>Version</dt>\n                <dd><code>v3.0.1</code></dd>\n              <dt>Master</dt>\n                <dd><code>local[*]</code></dd>\n              <dt>AppName</dt>\n                <dd><code>flaflu</code></dd>\n            </dl>\n        </div>\n        "
     },
     "metadata": {},
     "execution_count": 2
    }
   ],
   "source": [
    "sc = SparkContext(appName=\"flaflu\")\n",
    "sc"
   ]
  },
  {
   "cell_type": "code",
   "execution_count": 3,
   "metadata": {},
   "outputs": [],
   "source": [
    "rdd = sc.sequenceFile(\"part-00000\")\n",
    "N_documentos = rdd.count()"
   ]
  },
  {
   "cell_type": "code",
   "execution_count": 4,
   "metadata": {},
   "outputs": [],
   "source": [
    "DOC_COUNT_MIN = 10\n",
    "DOC_COUNT_MAX = N_documentos * 0.7"
   ]
  },
  {
   "cell_type": "code",
   "execution_count": 5,
   "metadata": {},
   "outputs": [],
   "source": [
    "def limpa_conteudo(conteudo):\n",
    "    to_remove = ['!', '.', ',', ':', '@', '#', '$', '%', '/', '\\\\', '|', '´', '`',\n",
    "                 '*', '&', '(', ')', '[', ']', '}', '{', '+', '-', '<', '>', '?', '°', '=', '\"', \n",
    "                 '_', \"'\", ';', '^', '~', '¨']\n",
    "    for i in to_remove:\n",
    "        conteudo = conteudo.replace(i, ' ')\n",
    "    return conteudo\n",
    "\n",
    "def conta_documento(item):\n",
    "    conteudo = limpa_conteudo(item[1])\n",
    "    palavras = conteudo.strip().split()\n",
    "    return [(i.lower(), 1) for i in set(palavras)]\n",
    "\n",
    "def calcula_idf(item):\n",
    "    palavra, contagem = item\n",
    "    idf = math.log10(N_documentos/contagem)\n",
    "    return (palavra, idf)\n",
    "\n",
    "def filtra_doc(item):\n",
    "    contagem = item[1]\n",
    "    return (contagem < DOC_COUNT_MAX) and (contagem > DOC_COUNT_MIN) \n",
    "\n",
    "rdd_idf = rdd \\\n",
    "    .flatMap(conta_documento) \\\n",
    "    .reduceByKey(lambda x,y: x+y) \\\n",
    "    .filter(filtra_doc) \\\n",
    "    .map(lambda x: (x[0], math.log10(N_documentos/x[1])))"
   ]
  },
  {
   "cell_type": "code",
   "execution_count": 6,
   "metadata": {},
   "outputs": [
    {
     "output_type": "execute_result",
     "data": {
      "text/plain": [
       "'https://sebodomessias.com.br/suas_compras.aspx?retirar=0&action=1&idItem=2023136'"
      ]
     },
     "metadata": {},
     "execution_count": 6
    }
   ],
   "source": [
    "rdd.take(1)[0][0]"
   ]
  },
  {
   "cell_type": "code",
   "execution_count": 7,
   "metadata": {},
   "outputs": [],
   "source": [
    "def conta_palavra(item):\n",
    "    conteudo = limpa_conteudo(item[1])\n",
    "    palavras = conteudo.strip().split()\n",
    "    return [(i.lower(), 1) for i in palavras]\n",
    "\n",
    "def calcula_freq(item):\n",
    "    palavra, contagem = item\n",
    "    freq = math.log10(1 + contagem)\n",
    "    return (palavra, freq)\n",
    "\n",
    "rdd_freq_fla = rdd \\\n",
    "    .filter(lambda x: \"flamengo\" in x[1]) \\\n",
    "    .flatMap(conta_palavra) \\\n",
    "    .reduceByKey(lambda x,y: x+y) \\\n",
    "    .map(calcula_freq)\n",
    "\n",
    "rdd_freq_flu = rdd \\\n",
    "    .filter(lambda x: \"fluminense\" in x[1]) \\\n",
    "    .flatMap(conta_palavra) \\\n",
    "    .reduceByKey(lambda x,y: x+y) \\\n",
    "    .map(calcula_freq)\n",
    "\n",
    "rdd_freq = rdd_freq_fla.intersection(rdd_freq_flu)"
   ]
  },
  {
   "cell_type": "code",
   "execution_count": 8,
   "metadata": {},
   "outputs": [],
   "source": [
    "rdd_relevancia = rdd_freq.join(rdd_idf) \\\n",
    "    .map(lambda x: (x[0], x[1][0] * x[1][1]))"
   ]
  },
  {
   "cell_type": "code",
   "execution_count": 9,
   "metadata": {},
   "outputs": [],
   "source": [
    "top_relevancia = rdd_relevancia.takeOrdered(100, key=lambda x: -x[1])"
   ]
  },
  {
   "cell_type": "code",
   "execution_count": 12,
   "metadata": {},
   "outputs": [],
   "source": [
    "# import pandas as pd\n",
    "# df = pd.DataFrame(top_relevancia, columns=['Palavra', 'Relevancia'])\n",
    "# df.to_csv(\"teste.csv\")"
   ]
  },
  {
   "cell_type": "code",
   "execution_count": 10,
   "metadata": {},
   "outputs": [],
   "source": [
    "rdd_freq_flaOnly = rdd_freq_fla.subtractByKey(rdd_freq)\n",
    "rdd_freq_fluOnly = rdd_freq_flu.subtractByKey(rdd_freq)\n",
    "\n",
    "rdd_relevanciaFLA = rdd_freq_flaOnly.join(rdd_idf) \\\n",
    "    .map(lambda x: (x[0], x[1][0] * x[1][1]))\n",
    "top_relevanciaFLA = rdd_relevanciaFLA.takeOrdered(100, key=lambda x: -x[1])\n",
    "\n",
    "\n",
    "rdd_relevanciaFLU = rdd_freq_fluOnly.join(rdd_idf) \\\n",
    "    .map(lambda x: (x[0], x[1][0] * x[1][1]))\n",
    "top_relevanciaFLU = rdd_relevanciaFLU.takeOrdered(100, key=lambda x: -x[1])\n"
   ]
  },
  {
   "cell_type": "code",
   "execution_count": 13,
   "metadata": {},
   "outputs": [
    {
     "output_type": "execute_result",
     "data": {
      "text/plain": [
       "[('pituaçu', 5.435292942683553),\n",
       " ('061', 3.674464476978498),\n",
       " ('021', 3.405110010963132),\n",
       " ('0711', 3.36961840547164),\n",
       " ('0614', 3.35560460164042),\n",
       " ('072', 3.3155444830412844),\n",
       " ('052', 3.2801423234298244),\n",
       " ('2714', 3.1291047257097606),\n",
       " ('291', 3.1275183996670086),\n",
       " ('031', 3.1013188496774258),\n",
       " ('042', 3.0773517307512783),\n",
       " ('251', 3.026218129529924),\n",
       " ('023', 3.023886208371118),\n",
       " ('1214', 3.0153719889167245),\n",
       " ('1412', 2.9991180524801253),\n",
       " ('1614', 2.9991180524801253),\n",
       " ('0213', 2.971796837656449),\n",
       " ('011', 2.9682951119052885),\n",
       " ('0513', 2.939861798913858),\n",
       " ('067', 2.9260176835771636),\n",
       " ('301', 2.9169588307346626),\n",
       " ('201', 2.9116329225730095),\n",
       " ('033', 2.884468390038659),\n",
       " ('0412', 2.88328519821178),\n",
       " ('2920', 2.88328519821178),\n",
       " ('022', 2.8588417183282977),\n",
       " ('0722', 2.8579633368629933),\n",
       " ('2513', 2.8579633368629933),\n",
       " ('0512', 2.8579633368629933),\n",
       " ('2214', 2.8342763174843264),\n",
       " ('232', 2.8271130646854528),\n",
       " ('0912', 2.8120257829744135),\n",
       " ('2612', 2.791047421022259),\n",
       " ('047', 2.7647039155313387),\n",
       " ('063', 2.7372851513379053),\n",
       " ('2412', 2.734470820320181),\n",
       " ('1515', 2.728116370437818),\n",
       " ('1211', 2.728116370437818),\n",
       " ('1913', 2.728116370437818),\n",
       " ('ceni', 2.7199097209541168),\n",
       " ('062', 2.7014936285821856),\n",
       " ('0117', 2.7010822295175263),\n",
       " ('ronaldinho', 2.696222002127065),\n",
       " ('302', 2.5829036145717654),\n",
       " ('misael', 2.5798764581631954),\n",
       " ('1410', 2.5685826004437193),\n",
       " ('223', 2.56746986617244),\n",
       " ('2312', 2.526591551412853),\n",
       " ('1312', 2.526591551412853),\n",
       " ('203', 2.5109871089256184),\n",
       " ('1812', 2.497977996112331),\n",
       " ('065', 2.4709356622209326),\n",
       " ('2311', 2.4629971190141875),\n",
       " ('0343', 2.457935943701222),\n",
       " ('0836', 2.457935943701222),\n",
       " ('2913', 2.457935943701222),\n",
       " ('1414', 2.4547490996502637),\n",
       " ('1510', 2.4466823701963953),\n",
       " ('073', 2.43265410247521),\n",
       " ('2432', 2.4315228731325065),\n",
       " ('2415', 2.4315228731325065),\n",
       " ('0110', 2.4315228731325065),\n",
       " ('2426', 2.4315228731325065),\n",
       " ('253', 2.4086316060077153),\n",
       " ('2923', 2.4072252035697757),\n",
       " ('tigrão', 2.4072252035697757),\n",
       " ('cueva', 2.4072252035697757),\n",
       " ('2813', 2.4072252035697757),\n",
       " ('0633', 2.4072252035697757),\n",
       " ('2516', 2.4072252035697757),\n",
       " ('2436', 2.384729075294114),\n",
       " ('2810', 2.384729075294114),\n",
       " ('2816', 2.384729075294114),\n",
       " ('044', 2.3722678849235788),\n",
       " ('rosário', 2.3653210769444395),\n",
       " ('2955', 2.3637856809200617),\n",
       " ('2410', 2.3637856809200617),\n",
       " ('0113', 2.3637856809200617),\n",
       " ('2529', 2.3637856809200617),\n",
       " ('2710', 2.3637856809200617),\n",
       " ('joesley', 2.3637856809200617),\n",
       " ('1212', 2.361606213702537),\n",
       " ('falou', 2.3541813059129644),\n",
       " ('0821', 2.344194443863666),\n",
       " ('1011', 2.3430970104222735),\n",
       " ('sanchez', 2.3384802426839686),\n",
       " ('2914', 2.325791305450743),\n",
       " ('0612', 2.325791305450743),\n",
       " ('2429', 2.325791305450743),\n",
       " ('111', 2.3086868546341406),\n",
       " ('0341', 2.3084403650268217),\n",
       " ('2672', 2.3084403650268217),\n",
       " ('0311', 2.3084403650268217),\n",
       " ('217', 2.308294025993853),\n",
       " ('sposito', 2.292027783359066),\n",
       " ('097', 2.291748938409565),\n",
       " ('2471', 2.2764572516512214),\n",
       " ('2614', 2.2764572516512214),\n",
       " ('2218', 2.2764572516512214),\n",
       " ('2033', 2.2764572516512214)]"
      ]
     },
     "metadata": {},
     "execution_count": 13
    }
   ],
   "source": [
    "top_relevancia"
   ]
  },
  {
   "cell_type": "code",
   "execution_count": 13,
   "metadata": {},
   "outputs": [],
   "source": [
    "with open(\"top100_intersection.txt\", \"w\", encoding=\"utf-8\") as file:\n",
    "    for line in top_relevancia:\n",
    "        file.write(f\"{line[0]} : {line[1]}\\n\")\n",
    "\n",
    "with open(\"top100_FLA.txt\", \"w\", encoding=\"utf-8\") as file:\n",
    "    for line in top_relevanciaFLA:\n",
    "        file.write(f\"{line[0]} : {line[1]}\\n\")\n",
    "\n",
    "with open(\"top100_FLU.txt\", \"w\", encoding=\"utf-8\") as file:\n",
    "    for line in top_relevanciaFLU:\n",
    "        file.write(f\"{line[0]} : {line[1]}\\n\")"
   ]
  },
  {
   "cell_type": "code",
   "execution_count": null,
   "metadata": {},
   "outputs": [],
   "source": []
  }
 ],
 "metadata": {
  "kernelspec": {
   "display_name": "Python 3",
   "language": "python",
   "name": "python3"
  },
  "language_info": {
   "codemirror_mode": {
    "name": "ipython",
    "version": 3
   },
   "file_extension": ".py",
   "mimetype": "text/x-python",
   "name": "python",
   "nbconvert_exporter": "python",
   "pygments_lexer": "ipython3",
   "version": "3.8.4-final"
  }
 },
 "nbformat": 4,
 "nbformat_minor": 4
}