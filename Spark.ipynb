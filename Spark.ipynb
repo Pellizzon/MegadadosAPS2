{
 "cells": [
  {
   "cell_type": "code",
   "execution_count": 1,
   "metadata": {},
   "outputs": [],
   "source": [
    "import boto3\n",
    "import pyspark\n",
    "import math\n",
    "import pandas as pd"
   ]
  },
  {
   "cell_type": "code",
   "execution_count": 2,
   "metadata": {},
   "outputs": [
    {
     "output_type": "execute_result",
     "data": {
      "text/plain": [
       "<SparkContext master=local[*] appName=flaflu>"
      ],
      "text/html": "\n        <div>\n            <p><b>SparkContext</b></p>\n\n            <p><a href=\"http://LAPTOP-SUDG79B7.mshome.net:4040\">Spark UI</a></p>\n\n            <dl>\n              <dt>Version</dt>\n                <dd><code>v3.0.1</code></dd>\n              <dt>Master</dt>\n                <dd><code>local[*]</code></dd>\n              <dt>AppName</dt>\n                <dd><code>flaflu</code></dd>\n            </dl>\n        </div>\n        "
     },
     "metadata": {},
     "execution_count": 2
    }
   ],
   "source": [
    "sc = pyspark.SparkContext(appName=\"flaflu\")\n",
    "sc"
   ]
  },
  {
   "cell_type": "code",
   "execution_count": 3,
   "metadata": {},
   "outputs": [],
   "source": [
    "def limpa_conteudo(conteudo):\n",
    "    to_remove = [\n",
    "        \"!\", \".\", \",\", \":\", \"@\", \"#\", \"$\", \"%\", \"/\", \"\\\\\", \"|\", \"´\", \"`\",\n",
    "        \"*\", \"&\", \"(\", \")\", \"[\", \"]\", \"}\", \"{\", \"+\", \"-\", \"<\", \">\", \"?\", \n",
    "        \"°\", \"=\", '\"', \"_\", \"'\", \";\", \"^\", \"~\", \"¨\",\n",
    "    ]\n",
    "    for i in to_remove:\n",
    "        conteudo = conteudo.replace(i, \" \")\n",
    "    return conteudo"
   ]
  },
  {
   "cell_type": "code",
   "execution_count": 4,
   "metadata": {},
   "outputs": [],
   "source": [
    "def conta_documento(item):\n",
    "    conteudo = limpa_conteudo(item[1])\n",
    "    palavras = conteudo.strip().split()\n",
    "    palavras_ = [i for i in palavras if i.isalpha()]\n",
    "    palavras_filtradas = [i for i in palavras_ if len(i) > 3]\n",
    "    return [(i.lower(), 1) for i in set(palavras_filtradas)]"
   ]
  },
  {
   "cell_type": "code",
   "execution_count": 5,
   "metadata": {},
   "outputs": [],
   "source": [
    "def calcula_idf(item):\n",
    "    palavra, contagem = item\n",
    "    idf = math.log10(N_docs / contagem)\n",
    "    return (palavra, idf)"
   ]
  },
  {
   "cell_type": "code",
   "execution_count": 6,
   "metadata": {},
   "outputs": [],
   "source": [
    "def filtra_doc(item):\n",
    "    contagem = item[1]\n",
    "    return (contagem < DOC_COUNT_MAX) and (contagem > DOC_COUNT_MIN)"
   ]
  },
  {
   "cell_type": "code",
   "execution_count": 7,
   "metadata": {},
   "outputs": [],
   "source": [
    "def conta_palavra(item):\n",
    "    conteudo = limpa_conteudo(item[1])\n",
    "    palavras = conteudo.strip().split()\n",
    "    palavras_ = [i for i in palavras if i.isalpha()]\n",
    "    palavras_filtradas = [i for i in palavras_ if len(i) > 3]\n",
    "    return [(i.lower(), 1) for i in palavras_filtradas]"
   ]
  },
  {
   "cell_type": "code",
   "execution_count": 8,
   "metadata": {},
   "outputs": [],
   "source": [
    "def calcula_freq(item):\n",
    "    palavra, contagem = item\n",
    "    freq = math.log10(1 + contagem)\n",
    "    return (palavra, freq)"
   ]
  },
  {
   "cell_type": "code",
   "execution_count": 9,
   "metadata": {},
   "outputs": [],
   "source": [
    "def gera_rdd_freq(rdd, palavra):\n",
    "    rdd_freq = (\n",
    "        rdd.filter(lambda x: palavra in x[1])\n",
    "        .flatMap(conta_palavra)\n",
    "        .reduceByKey(lambda x, y: x + y)\n",
    "        .map(calcula_freq)\n",
    "    )\n",
    "    return rdd_freq"
   ]
  },
  {
   "cell_type": "code",
   "execution_count": 10,
   "metadata": {},
   "outputs": [],
   "source": [
    "def gera_relevancia(rdd_freq, rdd_idf):\n",
    "    relevancia = rdd_freq.join(rdd_idf).map(lambda x: (x[0], x[1][0] * x[1][1]))\n",
    "    return relevancia"
   ]
  },
  {
   "cell_type": "code",
   "execution_count": 11,
   "metadata": {},
   "outputs": [],
   "source": [
    "def pega_top_100(rdd):\n",
    "    return rdd.takeOrdered(100, key=lambda x: -x[1])"
   ]
  },
  {
   "cell_type": "code",
   "execution_count": 12,
   "metadata": {},
   "outputs": [
    {
     "output_type": "execute_result",
     "data": {
      "text/plain": [
       "36133"
      ]
     },
     "metadata": {},
     "execution_count": 12
    }
   ],
   "source": [
    "rdd = sc.sequenceFile(\"part-00000\")\n",
    "N_docs = rdd.count()\n",
    "N_docs"
   ]
  },
  {
   "cell_type": "code",
   "execution_count": 13,
   "metadata": {},
   "outputs": [],
   "source": [
    "DOC_COUNT_MIN = 10\n",
    "DOC_COUNT_MAX = N_docs * 0.7"
   ]
  },
  {
   "cell_type": "code",
   "execution_count": 16,
   "metadata": {},
   "outputs": [],
   "source": [
    "rdd_idf = (\n",
    "    rdd.flatMap(conta_documento)\n",
    "    .reduceByKey(lambda x, y: x + y)\n",
    "    .filter(filtra_doc)\n",
    "    .map(lambda x: (x[0], math.log10(N_docs / x[1])))\n",
    ")\n",
    "idf_samples = rdd_idf.take(5)\n",
    "df_idf = pd.DataFrame()\n",
    "palavras = []\n",
    "idfs = []\n",
    "for sample in idf_samples:\n",
    "    palavras.append(sample[0])\n",
    "    idfs.append(sample[1])\n",
    "df_idf[\"Palavra\"] = palavras\n",
    "df_idf[\"IDF\"] = idfs\n",
    "df_idf.to_excel(\"AmostraIDF.xlsx\")"
   ]
  },
  {
   "cell_type": "code",
   "execution_count": 29,
   "metadata": {},
   "outputs": [],
   "source": [
    "rdd_freq_fla = gera_rdd_freq(rdd, \"flamengo\")\n",
    "rdd_freq_flu = gera_rdd_freq(rdd, \"fluminense\")\n",
    "rdd_freq_flaflu = rdd_freq_fla.intersection(rdd_freq_flu)\n",
    "rdd_freq_flaOnly = rdd_freq_fla.subtractByKey(rdd_freq_flaflu)\n",
    "rdd_freq_fluOnly = rdd_freq_flu.subtractByKey(rdd_freq_flaflu)\n",
    "\n",
    "freqNorm_FLA = rdd_freq_fla.take(5)\n",
    "df_freqNormFLA = pd.DataFrame()\n",
    "palavrasFLA = []\n",
    "freqFLA = []\n",
    "for sample in freqNorm_FLA:\n",
    "    palavrasFLA.append(sample[0])\n",
    "    freqFLA.append(sample[1])\n",
    "df_freqNormFLA[\"Palavra\"] = palavrasFLA\n",
    "df_freqNormFLA[\"Freq. Normalizada\"] = freqFLA\n",
    "df_freqNormFLA.to_excel(\"AmostraFreqFLA.xlsx\")\n",
    "\n",
    "freqNorm_FLU = rdd_freq_flu.take(5)\n",
    "df_freqNormFLU = pd.DataFrame()\n",
    "palavrasFLU = []\n",
    "freqFLU = []\n",
    "for sample in freqNorm_FLU:\n",
    "    palavrasFLU.append(sample[0])\n",
    "    freqFLU.append(sample[1])\n",
    "df_freqNormFLU[\"Palavra\"] = palavrasFLU\n",
    "df_freqNormFLU[\"Freq. Normalizada\"] = freqFLU\n",
    "df_freqNormFLU.to_excel(\"AmostraFreqFLU.xlsx\")"
   ]
  },
  {
   "cell_type": "code",
   "execution_count": null,
   "metadata": {},
   "outputs": [],
   "source": [
    "rdd_relevancia = gera_relevancia(rdd_freq_flaflu, rdd_idf)\n",
    "rdd_relevanciaFLA = gera_relevancia(rdd_freq_flaOnly, rdd_idf)\n",
    "rdd_relevanciaFLU = gera_relevancia(rdd_freq_fluOnly, rdd_idf)\n",
    "\n",
    "top_relevancia = pega_top_100(rdd_relevancia)\n",
    "top_relevanciaFLA = pega_top_100(rdd_relevanciaFLA)\n",
    "top_relevanciaFLU = pega_top_100(rdd_relevanciaFLU)\n",
    "\n",
    "tops = [top_relevancia, top_relevanciaFLA, top_relevanciaFLU]\n",
    "csv_names = [\"top100_intersection.csv\", \"top100_FLA.csv\", \"top100_FLU.csv\"]\n",
    "# csv_names = [\n",
    "#     \"brasil_top100_intersection.csv\",\n",
    "#     \"brasil_top100_FLA.csv\",\n",
    "#     \"brasil_top100_FLU.csv\",\n",
    "# ]\n",
    "\n",
    "for top, name in zip(tops, csv_names):\n",
    "    df = pd.DataFrame(top, columns=[\"Palavra\", \"Relevancia\"])\n",
    "    # df.to_csv(f\"s3://megadados-alunos/matheus-pedro/{name}\")\n",
    "    df.to_csv(f\"{name}\")"
   ]
  },
  {
   "cell_type": "code",
   "execution_count": null,
   "metadata": {},
   "outputs": [],
   "source": [
    "sc.stop()"
   ]
  }
 ],
 "metadata": {
  "kernelspec": {
   "display_name": "Python 3",
   "language": "python",
   "name": "python3"
  },
  "language_info": {
   "codemirror_mode": {
    "name": "ipython",
    "version": 3
   },
   "file_extension": ".py",
   "mimetype": "text/x-python",
   "name": "python",
   "nbconvert_exporter": "python",
   "pygments_lexer": "ipython3",
   "version": "3.8.3-final"
  }
 },
 "nbformat": 4,
 "nbformat_minor": 4
}